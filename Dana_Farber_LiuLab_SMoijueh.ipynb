{
 "cells": [
  {
   "cell_type": "markdown",
   "metadata": {},
   "source": [
    "# Cancer Genomics Analysis\n",
    "\n",
    "Samuel Moijueh\n",
    "\n",
    "2020-12-02\n",
    "\n",
    "<img src=\"https://user-images.githubusercontent.com/42754056/58846596-5b0db080-8645-11e9-8d8c-16c9d56b7fb6.jpg\" style=\"width: 500px\" title=\"cancer cells\">\n",
    "\n",
    "<br>\n",
    "\n",
    "Objective: Explore the cancer genomic data (tumor/normal whole exome sequencing) from 50 patients that received the same type of treatment, half of whom responded.\n",
    "\n",
    "The data for this analysis from the Van Allen lab at the Dana-Farber Cancer Institute: <a href=\"https://drive.google.com/file/d/1pX78BUsh__VIVg4tJNChCA5b8h4tkjj-/view\">Google Drive</a>.\n",
    "\n",
    "\n",
    "<br>\n",
    "\n",
    "**Overall question: Can we identify mutations that are associated with the treatment response?**\n"
   ]
  },
  {
   "cell_type": "code",
   "execution_count": 1,
   "metadata": {},
   "outputs": [],
   "source": [
    "#!/usr/bin/env python\n",
    "\n",
    "\"\"\" Basic Utils \"\"\"\n",
    "import warnings\n",
    "import glob\n",
    "import os\n",
    "from collections import Counter\n",
    "\n",
    "\"\"\" Data Analysis and Visualization \"\"\"\n",
    "import pandas as pd\n",
    "import numpy as np\n",
    "import scipy.stats as stats\n",
    "import seaborn as sns\n",
    "import matplotlib.pyplot as plt\n",
    "import math\n",
    "\n",
    "INPUT_PATH = \"mafs/\""
   ]
  },
  {
   "cell_type": "markdown",
   "metadata": {},
   "source": [
    "# Step 1: Download the Dataset\n",
    "\n",
    "* import and store each MAF (Mutation Annotation Format) file into a pandas dataframe\n",
    "* create a dictionary to hold the dataframes; the dictionary will be indexed by the patient ID"
   ]
  },
  {
   "cell_type": "code",
   "execution_count": 2,
   "metadata": {},
   "outputs": [],
   "source": [
    "patient_maf_df_collection = {}\n",
    "\n",
    "for filename in glob.glob(INPUT_PATH + '*.maf'):\n",
    "    base = os.path.basename(filename)\n",
    "    patient_id = base.split(\".\")[0]\n",
    "    patient_maf_df_collection[patient_id] = pd.read_csv(filename, sep=\"\\t\")"
   ]
  },
  {
   "cell_type": "markdown",
   "metadata": {},
   "source": [
    "# Step 2: Subset For Nonsynonymous Mutations\n",
    "* subset for mutations that are not of the Variant Classification “Silent”\n",
    "    * get rid of silent mutations"
   ]
  },
  {
   "cell_type": "code",
   "execution_count": 3,
   "metadata": {},
   "outputs": [],
   "source": [
    "subset_patient_maf_df_collection = {}\n",
    "\n",
    "for key in patient_maf_df_collection.keys():\n",
    "    df = patient_maf_df_collection[key]\n",
    "    subset_df = df.loc[df['Variant_Classification'] != \"Silent\"]\n",
    "    subset_patient_maf_df_collection[key] = subset_df.applymap(str)"
   ]
  },
  {
   "cell_type": "markdown",
   "metadata": {},
   "source": [
    "<!--To verify that the the solution is correct, we can check the MAF dataframe before and after for one of the patients.!--> \n",
    "\n",
    "We can check the dataframe before and after to verify that the solution is correct.\n",
    "\n",
    "Notice that the rows corresponding to Silent mutations are absent after subsetting."
   ]
  },
  {
   "cell_type": "code",
   "execution_count": 4,
   "metadata": {},
   "outputs": [
    {
     "name": "stdout",
     "output_type": "stream",
     "text": [
      "=== Original Dataset ===\n",
      "Missense_Mutation    208\n",
      "Silent                94\n",
      "Nonsense_Mutation     20\n",
      "Splice_Site           12\n",
      "Name: Variant_Classification, dtype: int64\n",
      "\n",
      "=== Subset Dataset ===\n",
      "Missense_Mutation    208\n",
      "Nonsense_Mutation     20\n",
      "Splice_Site           12\n",
      "Name: Variant_Classification, dtype: int64\n"
     ]
    }
   ],
   "source": [
    "print(\"=== Original Dataset ===\")\n",
    "print(patient_maf_df_collection['Patient-0']['Variant_Classification'].value_counts())\n",
    "print(\"\")\n",
    "print(\"=== Subset Dataset ===\")\n",
    "print(subset_patient_maf_df_collection['Patient-0']['Variant_Classification'].value_counts())"
   ]
  },
  {
   "cell_type": "markdown",
   "metadata": {},
   "source": [
    "# Step 3: Find the 15 Most Common \n",
    "\n",
    "<br>\n",
    "\n",
    "Genes names are included in the column Hugo_Symbol and protein changes are stored in the column Protein_Change."
   ]
  },
  {
   "cell_type": "code",
   "execution_count": 5,
   "metadata": {},
   "outputs": [],
   "source": [
    "def most_common(column_name):\n",
    "    value_counter = []\n",
    "    for k,v in subset_patient_maf_df_collection.items():\n",
    "        a = v[column_name].values\n",
    "        unique, counts = np.unique(a, return_counts=True)\n",
    "        value_counter.append(Counter(dict(zip(unique, counts))))\n",
    "\n",
    "    counter = sum(value_counter, Counter())\n",
    "    return(counter)"
   ]
  },
  {
   "cell_type": "markdown",
   "metadata": {},
   "source": [
    "### Most Common Gene Mutations"
   ]
  },
  {
   "cell_type": "code",
   "execution_count": 6,
   "metadata": {
    "scrolled": false
   },
   "outputs": [
    {
     "data": {
      "text/html": [
       "<div>\n",
       "<style scoped>\n",
       "    .dataframe tbody tr th:only-of-type {\n",
       "        vertical-align: middle;\n",
       "    }\n",
       "\n",
       "    .dataframe tbody tr th {\n",
       "        vertical-align: top;\n",
       "    }\n",
       "\n",
       "    .dataframe thead th {\n",
       "        text-align: right;\n",
       "    }\n",
       "</style>\n",
       "<table border=\"1\" class=\"dataframe\">\n",
       "  <thead>\n",
       "    <tr style=\"text-align: right;\">\n",
       "      <th></th>\n",
       "      <th>Gene Mutation</th>\n",
       "      <th>Frequency</th>\n",
       "    </tr>\n",
       "  </thead>\n",
       "  <tbody>\n",
       "    <tr>\n",
       "      <th>0</th>\n",
       "      <td>TTN</td>\n",
       "      <td>41</td>\n",
       "    </tr>\n",
       "    <tr>\n",
       "      <th>1</th>\n",
       "      <td>TP53</td>\n",
       "      <td>30</td>\n",
       "    </tr>\n",
       "    <tr>\n",
       "      <th>2</th>\n",
       "      <td>ERBB4</td>\n",
       "      <td>27</td>\n",
       "    </tr>\n",
       "    <tr>\n",
       "      <th>3</th>\n",
       "      <td>MUC16</td>\n",
       "      <td>22</td>\n",
       "    </tr>\n",
       "    <tr>\n",
       "      <th>4</th>\n",
       "      <td>SPEN</td>\n",
       "      <td>22</td>\n",
       "    </tr>\n",
       "    <tr>\n",
       "      <th>5</th>\n",
       "      <td>KMT2C</td>\n",
       "      <td>20</td>\n",
       "    </tr>\n",
       "    <tr>\n",
       "      <th>6</th>\n",
       "      <td>KMT2D</td>\n",
       "      <td>17</td>\n",
       "    </tr>\n",
       "    <tr>\n",
       "      <th>7</th>\n",
       "      <td>ERBB3</td>\n",
       "      <td>16</td>\n",
       "    </tr>\n",
       "    <tr>\n",
       "      <th>8</th>\n",
       "      <td>FRG1B</td>\n",
       "      <td>14</td>\n",
       "    </tr>\n",
       "    <tr>\n",
       "      <th>9</th>\n",
       "      <td>ZNF91</td>\n",
       "      <td>13</td>\n",
       "    </tr>\n",
       "    <tr>\n",
       "      <th>10</th>\n",
       "      <td>SYNE1</td>\n",
       "      <td>12</td>\n",
       "    </tr>\n",
       "    <tr>\n",
       "      <th>11</th>\n",
       "      <td>RB1</td>\n",
       "      <td>12</td>\n",
       "    </tr>\n",
       "    <tr>\n",
       "      <th>12</th>\n",
       "      <td>DST</td>\n",
       "      <td>12</td>\n",
       "    </tr>\n",
       "    <tr>\n",
       "      <th>13</th>\n",
       "      <td>TYRO3</td>\n",
       "      <td>11</td>\n",
       "    </tr>\n",
       "    <tr>\n",
       "      <th>14</th>\n",
       "      <td>ZNF208</td>\n",
       "      <td>11</td>\n",
       "    </tr>\n",
       "  </tbody>\n",
       "</table>\n",
       "</div>"
      ],
      "text/plain": [
       "   Gene Mutation Frequency\n",
       "0            TTN        41\n",
       "1           TP53        30\n",
       "2          ERBB4        27\n",
       "3          MUC16        22\n",
       "4           SPEN        22\n",
       "5          KMT2C        20\n",
       "6          KMT2D        17\n",
       "7          ERBB3        16\n",
       "8          FRG1B        14\n",
       "9          ZNF91        13\n",
       "10         SYNE1        12\n",
       "11           RB1        12\n",
       "12           DST        12\n",
       "13         TYRO3        11\n",
       "14        ZNF208        11"
      ]
     },
     "execution_count": 6,
     "metadata": {},
     "output_type": "execute_result"
    }
   ],
   "source": [
    "gene_mutations = most_common('Hugo_Symbol')\n",
    "most_common_gene_mutations = gene_mutations.most_common()[:15]\n",
    "pd.DataFrame(np.array(most_common_gene_mutations).reshape(15,2), columns=('Gene Mutation', 'Frequency'))"
   ]
  },
  {
   "cell_type": "markdown",
   "metadata": {},
   "source": [
    "### Most Common Protein Changes"
   ]
  },
  {
   "cell_type": "code",
   "execution_count": 7,
   "metadata": {
    "scrolled": false
   },
   "outputs": [
    {
     "data": {
      "text/html": [
       "<div>\n",
       "<style scoped>\n",
       "    .dataframe tbody tr th:only-of-type {\n",
       "        vertical-align: middle;\n",
       "    }\n",
       "\n",
       "    .dataframe tbody tr th {\n",
       "        vertical-align: top;\n",
       "    }\n",
       "\n",
       "    .dataframe thead th {\n",
       "        text-align: right;\n",
       "    }\n",
       "</style>\n",
       "<table border=\"1\" class=\"dataframe\">\n",
       "  <thead>\n",
       "    <tr style=\"text-align: right;\">\n",
       "      <th></th>\n",
       "      <th>Protein Change</th>\n",
       "      <th>Frequency</th>\n",
       "    </tr>\n",
       "  </thead>\n",
       "  <tbody>\n",
       "    <tr>\n",
       "      <th>0</th>\n",
       "      <td>nan</td>\n",
       "      <td>209</td>\n",
       "    </tr>\n",
       "    <tr>\n",
       "      <th>1</th>\n",
       "      <td>p.S1289A</td>\n",
       "      <td>14</td>\n",
       "    </tr>\n",
       "    <tr>\n",
       "      <th>2</th>\n",
       "      <td>p.S57L</td>\n",
       "      <td>6</td>\n",
       "    </tr>\n",
       "    <tr>\n",
       "      <th>3</th>\n",
       "      <td>p.E70K</td>\n",
       "      <td>6</td>\n",
       "    </tr>\n",
       "    <tr>\n",
       "      <th>4</th>\n",
       "      <td>p.E338K</td>\n",
       "      <td>6</td>\n",
       "    </tr>\n",
       "    <tr>\n",
       "      <th>5</th>\n",
       "      <td>p.E545K</td>\n",
       "      <td>6</td>\n",
       "    </tr>\n",
       "    <tr>\n",
       "      <th>6</th>\n",
       "      <td>p.E301K</td>\n",
       "      <td>6</td>\n",
       "    </tr>\n",
       "    <tr>\n",
       "      <th>7</th>\n",
       "      <td>p.E352K</td>\n",
       "      <td>5</td>\n",
       "    </tr>\n",
       "    <tr>\n",
       "      <th>8</th>\n",
       "      <td>p.S330F</td>\n",
       "      <td>5</td>\n",
       "    </tr>\n",
       "    <tr>\n",
       "      <th>9</th>\n",
       "      <td>p.I97M</td>\n",
       "      <td>5</td>\n",
       "    </tr>\n",
       "    <tr>\n",
       "      <th>10</th>\n",
       "      <td>p.Q707E</td>\n",
       "      <td>5</td>\n",
       "    </tr>\n",
       "    <tr>\n",
       "      <th>11</th>\n",
       "      <td>p.E315K</td>\n",
       "      <td>5</td>\n",
       "    </tr>\n",
       "    <tr>\n",
       "      <th>12</th>\n",
       "      <td>p.E121K</td>\n",
       "      <td>5</td>\n",
       "    </tr>\n",
       "    <tr>\n",
       "      <th>13</th>\n",
       "      <td>p.E158K</td>\n",
       "      <td>5</td>\n",
       "    </tr>\n",
       "    <tr>\n",
       "      <th>14</th>\n",
       "      <td>p.E53K</td>\n",
       "      <td>5</td>\n",
       "    </tr>\n",
       "    <tr>\n",
       "      <th>15</th>\n",
       "      <td>p.R248Q</td>\n",
       "      <td>5</td>\n",
       "    </tr>\n",
       "  </tbody>\n",
       "</table>\n",
       "</div>"
      ],
      "text/plain": [
       "   Protein Change Frequency\n",
       "0             nan       209\n",
       "1        p.S1289A        14\n",
       "2          p.S57L         6\n",
       "3          p.E70K         6\n",
       "4         p.E338K         6\n",
       "5         p.E545K         6\n",
       "6         p.E301K         6\n",
       "7         p.E352K         5\n",
       "8         p.S330F         5\n",
       "9          p.I97M         5\n",
       "10        p.Q707E         5\n",
       "11        p.E315K         5\n",
       "12        p.E121K         5\n",
       "13        p.E158K         5\n",
       "14         p.E53K         5\n",
       "15        p.R248Q         5"
      ]
     },
     "execution_count": 7,
     "metadata": {},
     "output_type": "execute_result"
    }
   ],
   "source": [
    "protein_changes = most_common('Protein_Change')\n",
    "most_common_protein_changes = protein_changes.most_common()[0:16]\n",
    "pd.DataFrame(np.array(most_common_protein_changes).reshape(16,2), columns=('Protein Change', 'Frequency'))"
   ]
  },
  {
   "cell_type": "markdown",
   "metadata": {},
   "source": [
    "# Step 4: Perform Statistical Test (Gene Enrichment Analysis)\n",
    "\n",
    "<br>\n",
    "\n",
    "* Perform a statistical test to explore if any mutated genes are enriched in patients who either responded or not.\n",
    "\n",
    "I will perform the Fisher's Exact Test by constructing following contingency table:\n",
    "\n",
    "<br>\n",
    "\n",
    "<table>\n",
    "  <thead>\n",
    "    <tr>\n",
    "      <th></th>\n",
    "      <th>Responder</th>\n",
    "      <th>Non-Responder</th>\n",
    "    </tr>\n",
    "  </thead>\n",
    "  <tbody>\n",
    "    <tr>\n",
    "      <td>Gene A mutant</td>\n",
    "      <td>#</td>\n",
    "      <td>#</td>\n",
    "    </tr>\n",
    "    <tr>\n",
    "      <td>Gene A wild-type</td>\n",
    "      <td>#</td>\n",
    "      <td>#</td>\n",
    "    </tr>\n",
    "  </tbody>\n",
    "</table>\n",
    "\n",
    "<br>\n",
    "\n",
    "There are 50 patients in the study therefore the cells of the contingency table should add up to 50.\n",
    "\n",
    "**Overall Question: Are there any mutations that are associated with treatment response?**\n",
    "\n",
    "$H_{o}$: For a given gene, an observed imbalance in response vs non-response is not statistically significant.\n",
    "\n",
    "$H_{A}$: For a given gene, an observed imbalance in response vs non-response is significantly significant."
   ]
  },
  {
   "cell_type": "code",
   "execution_count": 8,
   "metadata": {},
   "outputs": [],
   "source": [
    "mutated_gene_list = gene_mutations.keys()\n",
    "patient_sample_list = subset_patient_maf_df_collection.keys()\n",
    "\n",
    "sample_information = pd.read_csv('sample-information.tsv', sep=\"\\t\")"
   ]
  },
  {
   "cell_type": "code",
   "execution_count": 9,
   "metadata": {},
   "outputs": [],
   "source": [
    "def get_contingency_table(patient_id,gene):\n",
    "    gene_count = np.sum(subset_patient_maf_df_collection[patient_id]['Hugo_Symbol'] == gene)\n",
    "    response = sample_information[sample_information['Patient_ID'] == patient_id]['Response'].values[0]\n",
    "\n",
    "    if gene_count == 0 and response == 'Non-Responder':\n",
    "        return(np.array([[0,0],[0,1]]))\n",
    "    if gene_count > 0 and response == 'Non-Responder':\n",
    "        return(np.array([[0,1],[0,0]]))\n",
    "    if gene_count == 0 and response == 'Responder':\n",
    "        return(np.array([[0,0],[1,0]]))\n",
    "    if gene_count > 0 and response == 'Responder':\n",
    "        return(np.array([[1,0],[0,0]]))"
   ]
  },
  {
   "cell_type": "code",
   "execution_count": 10,
   "metadata": {},
   "outputs": [],
   "source": [
    "fisher_exact_pval = {}             # the fisher's exact test p-values\n",
    "fisher_exact_oddsratio = {}        # the fisher's exact test odds radios\n",
    "mutated_patients_per_gene = {}     # the number of mutated patients per gene\n",
    "\n",
    "for gene in mutated_gene_list:\n",
    "    contingency_table = np.array([[0,0],[0,0]])\n",
    "    for patient_id in patient_sample_list:\n",
    "        contingency_table += get_contingency_table(patient_id,gene)\n",
    "    \n",
    "    # sanity check -- if the cell values of the contingency table sum greater than 50 then display an error message\n",
    "    if contingency_table.sum() != 50:\n",
    "        print(\"ERROR!! gene name = \" + gene)\n",
    "        break\n",
    "        \n",
    "    number_of_mutated_patients = sum(contingency_table[0])\n",
    "    oddsratio, pvalue = stats.fisher_exact(contingency_table)\n",
    "    fisher_exact_pval[gene] = pvalue\n",
    "    fisher_exact_oddsratio[gene] = oddsratio\n",
    "    mutated_patients_per_gene[gene] = number_of_mutated_patients"
   ]
  },
  {
   "cell_type": "markdown",
   "metadata": {},
   "source": [
    "### Bonferroni Multiple Test Correction\n",
    "\n",
    "We're performing a Fisher's Exact Test for every individual per gene. There are 50 individual patients in the study. Therefore, there are 50 hypothesis tests per gene. We need to perform a multiple test correction.\n",
    "\n",
    "One option is the Bonferroni Multiple Test Correction. It is calculated by dividing the specified Type I error (alpha = 0.05) by the number of hypothesis tests. \n",
    "\n",
    "Bonferroni correction $=α/N$\n",
    "\n",
    "Genes having a p-value lower than the Bonferroni correction (the new alpha) will be determined as significant.\n",
    "\n",
    "Note: The Bonferroni correction tends to be a bit too conservative. An alternative multiple test correction is the False Discovery Rate."
   ]
  },
  {
   "cell_type": "code",
   "execution_count": 11,
   "metadata": {},
   "outputs": [
    {
     "data": {
      "text/plain": [
       "0.001"
      ]
     },
     "execution_count": 11,
     "metadata": {},
     "output_type": "execute_result"
    }
   ],
   "source": [
    "bonferroni_correction = 0.05 / 50\n",
    "bonferroni_correction"
   ]
  },
  {
   "cell_type": "markdown",
   "metadata": {},
   "source": [
    "# Step 5: Scatterplot of the Results (Gene Enrichment Analysis)\n",
    "\n",
    "Create a scatter plot of genes with the number of mutated patients on the x-axis and your results from question 4 on the y-axis.\n",
    "\n",
    "Can the axes be scaled or transformed in any way to improve readability?"
   ]
  },
  {
   "cell_type": "code",
   "execution_count": 12,
   "metadata": {},
   "outputs": [],
   "source": [
    "\"\"\" create a dataframe of the Fisher's Exact Test Results and Number of Mutated Patients\"\"\"\n",
    "x_num = [0] * len(mutated_gene_list)\n",
    "y_pval = [0] * len(mutated_gene_list)\n",
    "gene_name = [0] * len(mutated_gene_list)\n",
    "\n",
    "for i, gene in enumerate(fisher_exact_pval.keys(), 0):\n",
    "    x_num[i] = mutated_patients_per_gene[gene]\n",
    "    y_pval[i] = fisher_exact_pval[gene]\n",
    "    gene_name[i] = gene\n",
    "\n",
    "gene_enrichment_results = df = pd.DataFrame(list(zip(x_num, y_pval, gene_name)), columns =['Mutated_Patients', 'p-value', 'Gene_Name'])"
   ]
  },
  {
   "cell_type": "code",
   "execution_count": 13,
   "metadata": {},
   "outputs": [
    {
     "name": "stdout",
     "output_type": "stream",
     "text": [
      "There are 6927 nonsynonymous mutations in the study.\n"
     ]
    }
   ],
   "source": [
    "print(\"There are {0} nonsynonymous mutations in the study.\".format(str(gene_enrichment_results.shape[0])))"
   ]
  },
  {
   "cell_type": "code",
   "execution_count": 14,
   "metadata": {
    "scrolled": true
   },
   "outputs": [
    {
     "data": {
      "text/html": [
       "<div>\n",
       "<style scoped>\n",
       "    .dataframe tbody tr th:only-of-type {\n",
       "        vertical-align: middle;\n",
       "    }\n",
       "\n",
       "    .dataframe tbody tr th {\n",
       "        vertical-align: top;\n",
       "    }\n",
       "\n",
       "    .dataframe thead th {\n",
       "        text-align: right;\n",
       "    }\n",
       "</style>\n",
       "<table border=\"1\" class=\"dataframe\">\n",
       "  <thead>\n",
       "    <tr style=\"text-align: right;\">\n",
       "      <th></th>\n",
       "      <th>Mutated_Patients</th>\n",
       "      <th>p-value</th>\n",
       "      <th>Gene_Name</th>\n",
       "    </tr>\n",
       "  </thead>\n",
       "  <tbody>\n",
       "    <tr>\n",
       "      <th>0</th>\n",
       "      <td>1</td>\n",
       "      <td>1.000000</td>\n",
       "      <td>ADC</td>\n",
       "    </tr>\n",
       "    <tr>\n",
       "      <th>1</th>\n",
       "      <td>1</td>\n",
       "      <td>1.000000</td>\n",
       "      <td>ADNP</td>\n",
       "    </tr>\n",
       "    <tr>\n",
       "      <th>2</th>\n",
       "      <td>2</td>\n",
       "      <td>1.000000</td>\n",
       "      <td>AFF2</td>\n",
       "    </tr>\n",
       "    <tr>\n",
       "      <th>3</th>\n",
       "      <td>2</td>\n",
       "      <td>1.000000</td>\n",
       "      <td>AGAP10</td>\n",
       "    </tr>\n",
       "    <tr>\n",
       "      <th>4</th>\n",
       "      <td>5</td>\n",
       "      <td>0.348676</td>\n",
       "      <td>AGO3</td>\n",
       "    </tr>\n",
       "  </tbody>\n",
       "</table>\n",
       "</div>"
      ],
      "text/plain": [
       "   Mutated_Patients   p-value Gene_Name\n",
       "0                 1  1.000000       ADC\n",
       "1                 1  1.000000      ADNP\n",
       "2                 2  1.000000      AFF2\n",
       "3                 2  1.000000    AGAP10\n",
       "4                 5  0.348676      AGO3"
      ]
     },
     "execution_count": 14,
     "metadata": {},
     "output_type": "execute_result"
    }
   ],
   "source": [
    "gene_enrichment_results.head()"
   ]
  },
  {
   "cell_type": "code",
   "execution_count": 15,
   "metadata": {
    "scrolled": false
   },
   "outputs": [
    {
     "data": {
      "text/plain": [
       "<matplotlib.legend.Legend at 0x7fd0be4166a0>"
      ]
     },
     "execution_count": 15,
     "metadata": {},
     "output_type": "execute_result"
    },
    {
     "data": {
      "image/png": "[encoded data removed]",
      "text/plain": [
       "<Figure size 1152x720 with 1 Axes>"
      ]
     },
     "metadata": {
      "needs_background": "light"
     },
     "output_type": "display_data"
    }
   ],
   "source": [
    "\"\"\" Create the Scatter Plot \"\"\" \n",
    "fig, ax = plt.subplots(figsize=(16,10))\n",
    "ax.tick_params(axis='both', which='major', labelsize=15)\n",
    "ax = sns.scatterplot(x=\"Mutated_Patients\", y=\"p-value\", data=gene_enrichment_results)\n",
    "ax.set_title('Fisher\\'s Exact Test: P-Value vs Number of Mutated Patients',y=1.02, fontsize=20)\n",
    "ax.set_xlabel('Number of Mutated Patients', fontsize=15, y=1.08)\n",
    "ax.set_ylabel('p-value', fontsize=15)\n",
    "ax.axhline(0.05, color = 'blue', ls='--')\n",
    "ax.axhline(bonferroni_correction, color = 'red', ls='--')\n",
    "bbox_props = dict(boxstyle=\"round\", fc=\"w\", ec=\"0.5\", alpha=0.9)\n",
    "\n",
    "ax.text(14, -0.2, \"Note: There are over 6000 nonsynonymous mutations in the study but many points overlap due to \\\n",
    "having the same p-value and number of mutated patients\", ha=\"center\", va=\"center\", size=14, bbox=bbox_props)\n",
    "plt.legend((\"0.05 alpha significance level\", \"Bonferroni Correction\", \"genes\"), prop={'size': 14})"
   ]
  },
  {
   "cell_type": "markdown",
   "metadata": {},
   "source": [
    "Note: We can improve the visualization by increasing the radius of the data points to reflect the number of mutations that cluster. Here is an <a href=\"https://iiif.elifesciences.org/lax:21778%2Felife-21778-fig4-figsupp2-v3.tif/full/1500,/0/default.jpg\" target=\"_blank\">Example</a>.\n",
    "\n",
    "<br>\n",
    "\n",
    "## Applying Log Transformation to p-values\n",
    "\n",
    "<br>\n",
    "\n",
    "We're interested in genes which have p-values < 0.05. These genes are currently positioned towards the bottom of the plot.\n",
    "\n",
    "We can improve readibility by transforming the y-axis onto a logarithmic scale: -log10(p-value). \n",
    "\n",
    "This will help us better visualize significant genes by effectively moving them to top of the plot."
   ]
  },
  {
   "cell_type": "code",
   "execution_count": 16,
   "metadata": {},
   "outputs": [
    {
     "data": {
      "text/html": [
       "<div>\n",
       "<style scoped>\n",
       "    .dataframe tbody tr th:only-of-type {\n",
       "        vertical-align: middle;\n",
       "    }\n",
       "\n",
       "    .dataframe tbody tr th {\n",
       "        vertical-align: top;\n",
       "    }\n",
       "\n",
       "    .dataframe thead th {\n",
       "        text-align: right;\n",
       "    }\n",
       "</style>\n",
       "<table border=\"1\" class=\"dataframe\">\n",
       "  <thead>\n",
       "    <tr style=\"text-align: right;\">\n",
       "      <th></th>\n",
       "      <th>Mutated_Patients</th>\n",
       "      <th>p-value</th>\n",
       "      <th>Gene_Name</th>\n",
       "      <th>negative_log10_pval</th>\n",
       "    </tr>\n",
       "  </thead>\n",
       "  <tbody>\n",
       "    <tr>\n",
       "      <th>414</th>\n",
       "      <td>9</td>\n",
       "      <td>0.001631</td>\n",
       "      <td>ERCC2</td>\n",
       "      <td>2.787590</td>\n",
       "    </tr>\n",
       "    <tr>\n",
       "      <th>1783</th>\n",
       "      <td>6</td>\n",
       "      <td>0.022290</td>\n",
       "      <td>HERC1</td>\n",
       "      <td>1.651894</td>\n",
       "    </tr>\n",
       "    <tr>\n",
       "      <th>1909</th>\n",
       "      <td>6</td>\n",
       "      <td>0.022290</td>\n",
       "      <td>AKAP9</td>\n",
       "      <td>1.651894</td>\n",
       "    </tr>\n",
       "    <tr>\n",
       "      <th>197</th>\n",
       "      <td>6</td>\n",
       "      <td>0.022290</td>\n",
       "      <td>HECTD1</td>\n",
       "      <td>1.651894</td>\n",
       "    </tr>\n",
       "    <tr>\n",
       "      <th>67</th>\n",
       "      <td>6</td>\n",
       "      <td>0.022290</td>\n",
       "      <td>MROH2B</td>\n",
       "      <td>1.651894</td>\n",
       "    </tr>\n",
       "    <tr>\n",
       "      <th>227</th>\n",
       "      <td>6</td>\n",
       "      <td>0.022290</td>\n",
       "      <td>MACF1</td>\n",
       "      <td>1.651894</td>\n",
       "    </tr>\n",
       "    <tr>\n",
       "      <th>218</th>\n",
       "      <td>8</td>\n",
       "      <td>0.048797</td>\n",
       "      <td>KMT2C</td>\n",
       "      <td>1.311606</td>\n",
       "    </tr>\n",
       "    <tr>\n",
       "      <th>55</th>\n",
       "      <td>5</td>\n",
       "      <td>0.050152</td>\n",
       "      <td>KIAA1109</td>\n",
       "      <td>1.299712</td>\n",
       "    </tr>\n",
       "    <tr>\n",
       "      <th>26</th>\n",
       "      <td>5</td>\n",
       "      <td>0.050152</td>\n",
       "      <td>COL6A6</td>\n",
       "      <td>1.299712</td>\n",
       "    </tr>\n",
       "  </tbody>\n",
       "</table>\n",
       "</div>"
      ],
      "text/plain": [
       "      Mutated_Patients   p-value Gene_Name  negative_log10_pval\n",
       "414                  9  0.001631     ERCC2             2.787590\n",
       "1783                 6  0.022290     HERC1             1.651894\n",
       "1909                 6  0.022290     AKAP9             1.651894\n",
       "197                  6  0.022290    HECTD1             1.651894\n",
       "67                   6  0.022290    MROH2B             1.651894\n",
       "227                  6  0.022290     MACF1             1.651894\n",
       "218                  8  0.048797     KMT2C             1.311606\n",
       "55                   5  0.050152  KIAA1109             1.299712\n",
       "26                   5  0.050152    COL6A6             1.299712"
      ]
     },
     "execution_count": 16,
     "metadata": {},
     "output_type": "execute_result"
    }
   ],
   "source": [
    "\"\"\" Apply Log Transformation to the p-values \"\"\"\n",
    "gene_enrichment_results['negative_log10_pval'] = -np.log10(gene_enrichment_results['p-value']) + 0\n",
    "\n",
    "\"\"\" Display results \"\"\"\n",
    "gene_enrichment_results.sort_values(by=['negative_log10_pval'],  ascending=False)[0:9]"
   ]
  },
  {
   "cell_type": "markdown",
   "metadata": {},
   "source": [
    "### Most Significantly Enriched Gene\n",
    "\n",
    "The most significantly enriched gene is ERCC2."
   ]
  },
  {
   "cell_type": "code",
   "execution_count": 17,
   "metadata": {},
   "outputs": [
    {
     "data": {
      "image/png": "[encoded data removed]",
      "text/plain": [
       "<Figure size 1152x720 with 1 Axes>"
      ]
     },
     "metadata": {
      "needs_background": "light"
     },
     "output_type": "display_data"
    }
   ],
   "source": [
    "\"\"\" Create the Scatter Plot \"\"\" \n",
    "fig, ax2 = plt.subplots(figsize=(16,10))\n",
    "ax2.tick_params(axis='both', which='major', labelsize=15)\n",
    "ax2 = sns.scatterplot(x=\"Mutated_Patients\", y=\"negative_log10_pval\", data=gene_enrichment_results)\n",
    "ax2.set_title('Fisher\\'s Exact Test: P-Value vs Number of Mutated Patients',y=1.02, fontsize=18)\n",
    "ax2.set_xlabel('Number of Mutated Patients', fontsize=14, y=1.08)\n",
    "ax2.set_ylabel('-log10(p-value)', fontsize=14)\n",
    "ax2.axhline(-math.log10(0.05), color = 'blue', ls='--')\n",
    "ax2.axhline(-math.log10(0.01), color = 'red', ls='--')\n",
    "\n",
    "ax2.text(14, -0.5, \"Note: There are over 6000 nonsynonymous mutations in the study but many points overlap due to \\\n",
    "having the same p-value and the same number of mutated patients\", ha=\"center\", va=\"center\", size=14, bbox=bbox_props)\n",
    "plt.legend((\"0.05 alpha significance level\", \"0.01 alpha significance level\", \"genes\"), prop={'size': 14})\n",
    "\n",
    "\"\"\" gene annotation \"\"\"\n",
    "ax2.annotate('ERCC2', xy = (9, -math.log10(0.001631)), xytext = (11, 2.6), arrowprops = dict(facecolor = 'black', shrink = 0.05, width=3), fontsize = 14 )\n",
    "ax2.annotate('HERC1', xy = (6, -math.log10(0.022290)), xytext = (8, 1.7), arrowprops = dict(facecolor = 'black', shrink = 0.05, width=3), fontsize = 14 )\n",
    "ax2.annotate('AKAP9', xy = (6, -math.log10(0.022290)), xytext = (3, 1.7), arrowprops = dict(facecolor = 'black', shrink = 0.05, width=3), fontsize = 14 )\n",
    "ax2.annotate('HECTD1', xy = (6, -math.log10(0.022290)), xytext = (3, 2.1), arrowprops = dict(facecolor = 'black', shrink = 0.05, width=3), fontsize = 14 )\n",
    "ax2.annotate('MROH2B', xy = (6, -math.log10(0.022290)), xytext = (7, 2.1), arrowprops = dict(facecolor = 'black', shrink = 0.05, width=3), fontsize = 14 )\n",
    "ax2.annotate('MACF1', xy = (6, -math.log10(0.022290)), xytext = (7.5, 1.8), arrowprops = dict(facecolor = 'black', shrink = 0.05, width=3), fontsize = 14 )\n",
    "ax2.annotate('KMT2C', xy = (8, -math.log10(0.048797)), xytext = (10, 1.5), arrowprops = dict(facecolor = 'black', shrink = 0.05, width=3), fontsize = 14 )\n",
    "bbox_props = dict(boxstyle=\"round\", fc=\"w\", ec=\"0.5\", alpha=0.9)"
   ]
  },
  {
   "cell_type": "markdown",
   "metadata": {},
   "source": [
    "# Step 6: Nonsynonymous Mutations Per Megabase\n",
    "\n",
    "<br>\n",
    "\n",
    "How many samples are wild-type versus mutant with respect to the most significantly enriched gene from Question 4?"
   ]
  },
  {
   "cell_type": "code",
   "execution_count": 18,
   "metadata": {},
   "outputs": [
    {
     "data": {
      "text/plain": [
       "array([[ 9,  0],\n",
       "       [16, 25]])"
      ]
     },
     "execution_count": 18,
     "metadata": {},
     "output_type": "execute_result"
    }
   ],
   "source": [
    "gene = 'ERCC2'\n",
    "gene_phenotype = []\n",
    "contingency_table = np.array([[0,0],[0,0]])\n",
    "for patient_id in patient_sample_list:\n",
    "    contingency_table += get_contingency_table(patient_id,gene)\n",
    "    status = 'wild-type' if np.sum(subset_patient_maf_df_collection[patient_id]['Hugo_Symbol'] == gene) == 0 else 'mutant'\n",
    "    gene_phenotype.append(status)\n",
    "\n",
    "contingency_table"
   ]
  },
  {
   "cell_type": "code",
   "execution_count": 19,
   "metadata": {},
   "outputs": [
    {
     "data": {
      "text/plain": [
       "9"
      ]
     },
     "execution_count": 19,
     "metadata": {},
     "output_type": "execute_result"
    }
   ],
   "source": [
    "gene_phenotype.count('mutant')"
   ]
  },
  {
   "cell_type": "markdown",
   "metadata": {},
   "source": [
    "<table>\n",
    "  <thead>\n",
    "    <tr>\n",
    "      <th></th>\n",
    "      <th>Responder</th>\n",
    "      <th>Non-Responder</th>\n",
    "    </tr>\n",
    "  </thead>\n",
    "  <tbody>\n",
    "    <tr>\n",
    "      <td>Gene A mutant</td>\n",
    "      <td>9</td>\n",
    "      <td>0</td>\n",
    "    </tr>\n",
    "    <tr>\n",
    "      <td>Gene A wild-type</td>\n",
    "      <td>16</td>\n",
    "      <td>25</td>\n",
    "    </tr>\n",
    "  </tbody>\n",
    "</table>"
   ]
  },
  {
   "cell_type": "markdown",
   "metadata": {},
   "source": [
    "#### 41 samples are wild-type and 9 samples are mutant with respect to the most significantly enriched gene ERCC2"
   ]
  },
  {
   "cell_type": "markdown",
   "metadata": {},
   "source": [
    "## Examine Nonsynonymous Mutatations Per Megabase in Mutant vs Wild-Type Samples\n",
    "<br>\n",
    "\n",
    "Plot the number of nonsynonymous mutations per megabase in the mutant vs. wild-type samples. \n",
    "\n",
    "Y-axis is nonsynonymous mutations per megabase. X-axis is categorical: mutant vs. wild-type samples (two different columns)"
   ]
  },
  {
   "cell_type": "code",
   "execution_count": 20,
   "metadata": {
    "scrolled": true
   },
   "outputs": [
    {
     "data": {
      "text/html": [
       "<div>\n",
       "<style scoped>\n",
       "    .dataframe tbody tr th:only-of-type {\n",
       "        vertical-align: middle;\n",
       "    }\n",
       "\n",
       "    .dataframe tbody tr th {\n",
       "        vertical-align: top;\n",
       "    }\n",
       "\n",
       "    .dataframe thead th {\n",
       "        text-align: right;\n",
       "    }\n",
       "</style>\n",
       "<table border=\"1\" class=\"dataframe\">\n",
       "  <thead>\n",
       "    <tr style=\"text-align: right;\">\n",
       "      <th></th>\n",
       "      <th>Patient_ID</th>\n",
       "      <th>Response</th>\n",
       "      <th>Nonsynonymous_mutations_per_Mb</th>\n",
       "      <th>gene_phenotype</th>\n",
       "    </tr>\n",
       "  </thead>\n",
       "  <tbody>\n",
       "    <tr>\n",
       "      <th>0</th>\n",
       "      <td>Patient-0</td>\n",
       "      <td>Non-Responder</td>\n",
       "      <td>6.77</td>\n",
       "      <td>wild-type</td>\n",
       "    </tr>\n",
       "    <tr>\n",
       "      <th>1</th>\n",
       "      <td>Patient-1</td>\n",
       "      <td>Responder</td>\n",
       "      <td>6.14</td>\n",
       "      <td>wild-type</td>\n",
       "    </tr>\n",
       "    <tr>\n",
       "      <th>2</th>\n",
       "      <td>Patient-2</td>\n",
       "      <td>Responder</td>\n",
       "      <td>2.84</td>\n",
       "      <td>mutant</td>\n",
       "    </tr>\n",
       "    <tr>\n",
       "      <th>3</th>\n",
       "      <td>Patient-3</td>\n",
       "      <td>Non-Responder</td>\n",
       "      <td>5.00</td>\n",
       "      <td>wild-type</td>\n",
       "    </tr>\n",
       "    <tr>\n",
       "      <th>4</th>\n",
       "      <td>Patient-4</td>\n",
       "      <td>Responder</td>\n",
       "      <td>10.50</td>\n",
       "      <td>wild-type</td>\n",
       "    </tr>\n",
       "  </tbody>\n",
       "</table>\n",
       "</div>"
      ],
      "text/plain": [
       "  Patient_ID       Response  Nonsynonymous_mutations_per_Mb gene_phenotype\n",
       "0  Patient-0  Non-Responder                            6.77      wild-type\n",
       "1  Patient-1      Responder                            6.14      wild-type\n",
       "2  Patient-2      Responder                            2.84         mutant\n",
       "3  Patient-3  Non-Responder                            5.00      wild-type\n",
       "4  Patient-4      Responder                           10.50      wild-type"
      ]
     },
     "execution_count": 20,
     "metadata": {},
     "output_type": "execute_result"
    }
   ],
   "source": [
    "df = sample_information[['Patient_ID', 'Response', 'Nonsynonymous_mutations_per_Mb']]\n",
    "df.insert(loc=3, column='gene_phenotype', value=gene_phenotype)\n",
    "df.head()"
   ]
  },
  {
   "cell_type": "code",
   "execution_count": 21,
   "metadata": {},
   "outputs": [
    {
     "data": {
      "text/plain": [
       "Text(0,0.5,'Nonsynonymous Mutations Per Mb')"
      ]
     },
     "execution_count": 21,
     "metadata": {},
     "output_type": "execute_result"
    },
    {
     "data": {
      "image/png": "[encoded data removed]",
      "text/plain": [
       "<Figure size 1152x720 with 1 Axes>"
      ]
     },
     "metadata": {
      "needs_background": "light"
     },
     "output_type": "display_data"
    }
   ],
   "source": [
    "fig, ax3 = plt.subplots(figsize=(16,10))\n",
    "\n",
    "\"\"\" create categorical scatter plot \"\"\" \n",
    "ax3 = sns.swarmplot(x=\"gene_phenotype\", y=\"Nonsynonymous_mutations_per_Mb\", hue=\"Response\",\n",
    "              palette=[\"r\", \"c\"], data=df)\n",
    "\n",
    "ax3.set_title('Nonsynonymous Mutations in Patient Samples with Respect to the ERCC2 Gene',y=1.02, fontsize=18)\n",
    "ax3.set_xlabel('Sample Phenotype with respect to ERCC2', fontsize=14, y=1.08)\n",
    "ax3.set_ylabel('Nonsynonymous Mutations Per Mb', fontsize=14)"
   ]
  },
  {
   "cell_type": "markdown",
   "metadata": {},
   "source": [
    "### Is there a significant difference in the number of mutations between the two groups?\n",
    "\n",
    "<br>\n",
    "\n",
    "There are more wild-type samples than mutant samples (41 to 9) with respect to the ERCC2 gene therefore it is hard to say if there is a significant different in the number of mutations between the two groups. \n",
    "\n",
    "We would have to perform a statistical test to determine if there is a significant difference in the number of nonsynonymous mutations between wild-type and mutant samples. A statistical test that comes to mind is the t-test -- of course I would have to check the test assumptions. There could be other statistical tests we could use as well.\n",
    "\n",
    "Just from eye-balling the categorical scatter plot, if we could extrapolate or add more mutant samples for this particular gene, it doesn't appear there would be a significant difference in the number of nonsynonymous mutations between wild-type and mutant samples."
   ]
  },
  {
   "cell_type": "markdown",
   "metadata": {},
   "source": [
    "# Step 7: Conclusion\n",
    "\n",
    "<br>\n",
    "\n",
    "## Write conclusions you have made based on your analysis.\n",
    "\n",
    "<br>\n",
    "\n",
    "------\n",
    "\n",
    "<br>\n",
    "\n",
    "The most significantly enriched gene from the 50 patient cohort in this study was ERCC2. \n",
    "\n",
    "The contigency table for this gene is:\n",
    "\n",
    "<table>\n",
    "  <thead>\n",
    "    <tr>\n",
    "      <th></th>\n",
    "      <th>Responder</th>\n",
    "      <th>Non-Responder</th>\n",
    "    </tr>\n",
    "  </thead>\n",
    "  <tbody>\n",
    "    <tr>\n",
    "      <td>Gene A mutant</td>\n",
    "      <td>9</td>\n",
    "      <td>0</td>\n",
    "    </tr>\n",
    "    <tr>\n",
    "      <td>Gene A wild-type</td>\n",
    "      <td>16</td>\n",
    "      <td>25</td>\n",
    "    </tr>\n",
    "  </tbody>\n",
    "</table>\n",
    "\n",
    "<br>\n",
    "\n",
    "9 individuals who have the mutant ERCC2 gene responded to treatment. There were no non-responders who have the mutant ERCC2 gene.\n",
    "\n",
    "16 individuals who have the wild-type ERCC2 gene responded to treatment. 25 individuals who have the wild-type ERCC2 gene did not respond to treatment. \n",
    "\n",
    "\n",
    "<br>\n",
    "\n",
    "The p-value for gene ERCC2 was 0.001631. The probability that we would observe this or an even more imbalanced ratio by chance is about  0.1631%. This is below the significance threshold of 1%. We can therefore conclude that our observed results for this gene are statistically significant; **the ERCC2 gene mutation is associated with the treatment. We have statistical evidence that individuals with this mutation tend not to respond to treatment.**"
   ]
  },
  {
   "cell_type": "markdown",
   "metadata": {},
   "source": [
    " \n",
    " -------\n",
    " \n",
    " <br>\n",
    " \n",
    " ## How might this analysis be improved or expanded upon? \n",
    " \n",
    " <br>\n",
    " \n",
    " ### Improve\n",
    " \n",
    " <br>\n",
    " \n",
    " The following two suggestions have come at the tradeoff of increased time and sequencing costs:\n",
    " \n",
    " * We can improve the statistical power of the analysis by including more patients in the study. \n",
    " \n",
    " * We can improve the coverage of the whole exome sequencing analysis by screening for more genes. There are 6927 nonsynonymous mutations in the study but 20,000-25,000 human protein-coding genes in the human genome. \n",
    " \n",
    " * We can improve the scatter plot visualizations in Question 5 by increasing the radius of the data points to reflect the number of mutations that cluster. Here is an <a href=\"https://iiif.elifesciences.org/lax:21778%2Felife-21778-fig4-figsupp2-v3.tif/full/1500,/0/default.jpg\" target=\"_blank\">Example</a>.\n",
    " \n",
    " \n",
    " <br>\n",
    " \n",
    " ### Expand\n",
    " \n",
    " <br>\n",
    " \n",
    "* We can attempt to define a molecular predictor for the treatment response by taking the most significantly enriched genes and setting up a linear or logistic regression model. We can perform a stepwise regression in order to pick the best predictors. We can finalize the model by performing a cross validation on new data. \n",
    "\n",
    "* We can expand on the study by performing a KEGG pathway analysis in order to identify what biological pathways the most significantly enriched genes are involved in. \n",
    "\n"
   ]
  },
  {
   "cell_type": "markdown",
   "metadata": {},
   "source": [
    "$\\blacksquare$"
   ]
  },
  {
   "cell_type": "code",
   "execution_count": null,
   "metadata": {},
   "outputs": [],
   "source": []
  }
 ],
 "metadata": {
  "kernelspec": {
   "display_name": "Python 3",
   "language": "python",
   "name": "python3"
  },
  "language_info": {
   "codemirror_mode": {
    "name": "ipython",
    "version": 3
   },
   "file_extension": ".py",
   "mimetype": "text/x-python",
   "name": "python",
   "nbconvert_exporter": "python",
   "pygments_lexer": "ipython3",
   "version": "3.7.7"
  },
  "varInspector": {
   "cols": {
    "lenName": 16,
    "lenType": 16,
    "lenVar": 40
   },
   "kernels_config": {
    "python": {
     "delete_cmd_postfix": "",
     "delete_cmd_prefix": "del ",
     "library": "var_list.py",
     "varRefreshCmd": "print(var_dic_list())"
    },
    "r": {
     "delete_cmd_postfix": ") ",
     "delete_cmd_prefix": "rm(",
     "library": "var_list.r",
     "varRefreshCmd": "cat(var_dic_list()) "
    }
   },
   "types_to_exclude": [
    "module",
    "function",
    "builtin_function_or_method",
    "instance",
    "_Feature"
   ],
   "window_display": false
  }
 },
 "nbformat": 4,
 "nbformat_minor": 2
}
